{
 "cells": [
  {
   "cell_type": "code",
   "execution_count": 49,
   "id": "84953d17",
   "metadata": {},
   "outputs": [],
   "source": [
    "import pandas as pd\n",
    "import numpy as np\n",
    "import sklearn"
   ]
  },
  {
   "cell_type": "code",
   "execution_count": 50,
   "id": "f1dc4b3e",
   "metadata": {},
   "outputs": [],
   "source": [
    "df_no = pd.read_excel(\"data_washed/norway_smokers.xlsx\").drop(columns=[\"Unnamed: 0\"])\n",
    "df_no = df_no.rename(columns={\"Unnamed: 2\": \"Year\", \"Unnamed: 3\": \"smokers_percentage\"})\n",
    "df_no[\"Year\"] = pd.to_numeric(df_no[\"Year\"], errors=\"coerce\")\n",
    "df_no = df_no.dropna(subset=[\"Year\", \"smokers_percentage\"]).reset_index(drop=True)\n",
    "df_no\n",
    "\n"
   ]
  },
  {
   "cell_type": "code",
   "execution_count": 73,
   "id": "4d9cecd9",
   "metadata": {},
   "outputs": [],
   "source": [
    "df_no1 = pd.read_excel(\"norge_royk1.xlsx\")\n",
    "df_no2 = pd.read_excel(\"norge_royk2.xlsx\")\n"
   ]
  },
  {
   "cell_type": "code",
   "execution_count": 74,
   "id": "18b93349",
   "metadata": {},
   "outputs": [],
   "source": [
    "# ...existing code...\n",
    "# drop first two columns, drop first two rows, reset index\n",
    "df_no1 = df_no1.drop(columns=[\"Unnamed: 0\", \"Unnamed: 1\"]).iloc[2:].reset_index(drop=True)\n",
    "\n",
    "# correct rename using the `columns=` dict\n",
    "df_no1 = df_no1.rename(columns={\"Unnamed: 2\": \"Year\", \"Unnamed: 3\": \"Smokers\"})\n",
    "\n",
    "# ensure Year numeric and drop rows with missing Year or Smokers\n",
    "df_no1[\"Year\"] = pd.to_numeric(df_no1[\"Year\"], errors=\"coerce\")\n",
    "df_no1 = df_no1.dropna(subset=[\"Year\", \"Smokers\"]).reset_index(drop=True)\n",
    "\n",
    "df_no1\n",
    "# ...existing code..."
   ]
  },
  {
   "cell_type": "code",
   "execution_count": 75,
   "id": "689896bf",
   "metadata": {},
   "outputs": [],
   "source": [
    "# ...existing code...\n",
    "# drop first two columns, drop first two rows, reset index\n",
    "df_no2 = df_no2.drop(columns=[\"Unnamed: 0\", \"Unnamed: 1\"]).iloc[2:].reset_index(drop=True)\n",
    "\n",
    "# correct rename using the `columns=` dict\n",
    "df_no2 = df_no2.rename(columns={\"Unnamed: 2\": \"Year\", \"Unnamed: 3\": \"Smokers\"})\n",
    "\n",
    "# ensure Year numeric and drop rows with missing Year or Smokers\n",
    "df_no2[\"Year\"] = pd.to_numeric(df_no2[\"Year\"], errors=\"coerce\")\n",
    "df_no2 = df_no2.dropna(subset=[\"Year\", \"Smokers\"]).reset_index(drop=True)\n",
    "\n",
    "df_no2\n",
    "# ...existing code..."
   ]
  },
  {
   "cell_type": "code",
   "execution_count": 79,
   "id": "c4a83207",
   "metadata": {},
   "outputs": [],
   "source": [
    "df_no = df_no1.merge(df_no2, on=\"Year\")\n",
    "df_no[\"Smokers\"] = df_no[\"Smokers_x\"] + df_no[\"Smokers_y\"]\n",
    "df_no = df_no.drop(columns=[\"Smokers_y\", \"Smokers_x\"])"
   ]
  },
  {
   "cell_type": "code",
   "execution_count": 80,
   "id": "04ca4629",
   "metadata": {},
   "outputs": [],
   "source": [
    "df_no"
   ]
  },
  {
   "cell_type": "code",
   "execution_count": 83,
   "id": "a85168ab",
   "metadata": {},
   "outputs": [],
   "source": [
    "df_no = pd.read_excel(\"data_washed/norway_smokers.xlsx\").drop(columns=[\"Unnamed: 0\"])\n",
    "df_no = df_no.rename(columns={\"Unnamed: 2\": \"Year\", \"Unnamed: 3\": \"smokers_percentage\"})\n",
    "df_no[\"Year\"] = pd.to_numeric(df_no[\"Year\"], errors=\"coerce\")\n",
    "df_no = df_no.dropna(subset=[\"Year\", \"smokers_percentage\"]).reset_index(drop=True)\n",
    "df_no\n"
   ]
  },
  {
   "cell_type": "code",
   "execution_count": null,
   "id": "f9c84109",
   "metadata": {},
   "outputs": [],
   "source": [
    "df_sp = pd.read_excel(\"roykere_danmark.xlsx\")\n",
    "df_sp = df_sp.rename(columns={\"Percentage\": \"smokers_percentage\"}).drop(columns=[\"Unnamed: 0\"])\n",
    "\n",
    "\n",
    "df_sp"
   ]
  },
  {
   "cell_type": "code",
   "execution_count": 85,
   "id": "f14a6dc9",
   "metadata": {},
   "outputs": [],
   "source": [
    "df_merged = df_sp.merge(df_no, how=\"left\", on=\"Year\", suffixes=(\"_sp\", \"_no\"))\n",
    "\n",
    "# Example: rename for clarity or combine columns if you want a single smokers_percentage column\n",
    "# df_merged[\"smokers_percentage_no\"] = df_merged[\"smokers_percentage_no\"].astype(float)\n",
    "# df_merged[\"smokers_percentage_sp\"] = df_merged[\"smokers_percentage_sp\"].astype(float)\n",
    "df = df_merged.head(12)\n",
    "df"
   ]
  },
  {
   "cell_type": "code",
   "execution_count": 86,
   "id": "41d255ba",
   "metadata": {},
   "outputs": [],
   "source": [
    "\n",
    "# ...existing code...\n",
    "import statsmodels.api as sm\n",
    "\n",
    "# Prepare long panel for DiD using the merged data (df_merged)\n",
    "# create separate country-year rows from the merged wide frame\n",
    "df_sp_long = df[['Year', 'smokers_percentage_sp']].rename(\n",
    "    columns={'smokers_percentage_sp': 'smokers_percentage'}\n",
    ").assign(Country='spmark')\n",
    "\n",
    "df_no_long = df[['Year', 'smokers_percentage_no']].rename(\n",
    "    columns={'smokers_percentage_no': 'smokers_percentage'}\n",
    ").assign(Country='Norway')\n",
    "\n",
    "df_long = pd.concat([df_sp_long, df_no_long], ignore_index=True)\n",
    "\n",
    "# clean and types\n",
    "df_long['Year'] = pd.to_numeric(df_long['Year'], errors='coerce')\n",
    "df_long['smokers_percentage'] = pd.to_numeric(df_long['smokers_percentage'], errors='coerce')\n",
    "df_long = df_long.dropna(subset=['Year', 'smokers_percentage']).reset_index(drop=True)\n",
    "\n",
    "# DiD variables: Norway indicator, Post2004, and interaction (Treated)\n",
    "df_long['Norway'] = (df_long['Country'] == 'Norway').astype(int)\n",
    "df_long['Post2004'] = (df_long['Year'] >= 2004).astype(int)\n",
    "df_long['Treated'] = df_long['Norway'] * df_long['Post2004']\n",
    "\n",
    "# Run OLS DiD: smokers_percentage ~ Norway + Post2004 + Treated\n",
    "X = df_long[['Norway', 'Post2004', 'Treated']]\n",
    "X = sm.add_constant(X)\n",
    "y = df_long['smokers_percentage']\n",
    "\n",
    "model = sm.OLS(y, X).fit()\n",
    "print(\"\\n\" + \"=\"*60)\n",
    "print(\"DiD: Norway workplace smoking ban (2004) — outcome: smokers_percentage\")\n",
    "print(\"=\"*60)\n",
    "print(model.summary())\n",
    "\n",
    "# key result\n",
    "did_coef = model.params['Treated']\n",
    "did_p = model.pvalues['Treated']\n",
    "print(f\"\\nDiD estimate (Treated): {did_coef:.4f}, p-value: {did_p:.4f}\")\n",
    "# ...existing code..."
   ]
  }
 ],
 "metadata": {
  "kernelspec": {
   "display_name": "venv_eco433",
   "language": "python",
   "name": "python3"
  },
  "language_info": {
   "codemirror_mode": {
    "name": "ipython",
    "version": 3
   },
   "file_extension": ".py",
   "mimetype": "text/x-python",
   "name": "python",
   "nbconvert_exporter": "python",
   "pygments_lexer": "ipython3",
   "version": "3.12.1"
  }
 },
 "nbformat": 4,
 "nbformat_minor": 5
}
