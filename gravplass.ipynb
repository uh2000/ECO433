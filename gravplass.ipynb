{
 "cells": [
  {
   "cell_type": "code",
   "execution_count": null,
   "id": "f440cd5c",
   "metadata": {},
   "outputs": [],
   "source": []
  },
  {
   "cell_type": "code",
   "execution_count": null,
   "id": "63ad07fe",
   "metadata": {},
   "outputs": [],
   "source": [
    "df_no = pd.read_excel(\"data_washed/norway_smokers.xlsx\").drop(columns=[\"Unnamed: 0\"])\n",
    "df_no = df_no.rename(columns={\"Unnamed: 2\": \"Year\", \"Unnamed: 3\": \"smokers_percentage\"})\n",
    "df_no[\"Year\"] = pd.to_numeric(df_no[\"Year\"], errors=\"coerce\")\n",
    "df_no = df_no.dropna(subset=[\"Year\", \"smokers_percentage\"]).reset_index(drop=True)\n",
    "df_no\n",
    "\n"
   ]
  },
  {
   "cell_type": "code",
   "execution_count": null,
   "id": "bd20e07e",
   "metadata": {},
   "outputs": [],
   "source": [
    "df_no = pd.read_excel(\"data_washed/norway_smokers.xlsx\").drop(columns=[\"Unnamed: 0\"])\n",
    "df_no = df_no.rename(columns={\"Unnamed: 2\": \"Year\", \"Unnamed: 3\": \"smokers_percentage\"})\n",
    "df_no[\"Year\"] = pd.to_numeric(df_no[\"Year\"], errors=\"coerce\")\n",
    "df_no = df_no.dropna(subset=[\"Year\", \"smokers_percentage\"]).reset_index(drop=True)\n",
    "df_no\n",
    "\n"
   ]
  },
  {
   "cell_type": "code",
   "execution_count": null,
   "id": "bf75d2ea",
   "metadata": {},
   "outputs": [],
   "source": [
    "df_no1 = pd.read_excel(\"norge_royk1.xlsx\")\n",
    "df_no2 = pd.read_excel(\"norge_royk2.xlsx\")\n"
   ]
  },
  {
   "cell_type": "code",
   "execution_count": null,
   "id": "cda06995",
   "metadata": {},
   "outputs": [],
   "source": [
    "# # ...existing code...\n",
    "# # drop first two columns, drop first two rows, reset index\n",
    "# df_no1 = df_no1.drop(columns=[\"Unnamed: 0\", \"Unnamed: 1\"]).iloc[2:].reset_index(drop=True)\n",
    "\n",
    "# # correct rename using the `columns=` dict\n",
    "# df_no1 = df_no1.rename(columns={\"Unnamed: 2\": \"Year\", \"Unnamed: 3\": \"Smokers\"})\n",
    "\n",
    "# # ensure Year numeric and drop rows with missing Year or Smokers\n",
    "# df_no1[\"Year\"] = pd.to_numeric(df_no1[\"Year\"], errors=\"coerce\")\n",
    "# df_no1 = df_no1.dropna(subset=[\"Year\", \"Smokers\"]).reset_index(drop=True)\n",
    "\n",
    "# df_no1\n",
    "# # ...existing code..."
   ]
  },
  {
   "cell_type": "code",
   "execution_count": null,
   "id": "cad1ecc9",
   "metadata": {},
   "outputs": [],
   "source": [
    "# ...existing code...\n",
    "# drop first two columns, drop first two rows, reset index\n",
    "df_no2 = df_no2.drop(columns=[\"Unnamed: 0\", \"Unnamed: 1\"]).iloc[2:].reset_index(drop=True)\n",
    "\n",
    "# correct rename using the `columns=` dict\n",
    "df_no2 = df_no2.rename(columns={\"Unnamed: 2\": \"Year\", \"Unnamed: 3\": \"Smokers\"})\n",
    "\n",
    "# ensure Year numeric and drop rows with missing Year or Smokers\n",
    "df_no2[\"Year\"] = pd.to_numeric(df_no2[\"Year\"], errors=\"coerce\")\n",
    "df_no2 = df_no2.dropna(subset=[\"Year\", \"Smokers\"]).reset_index(drop=True)\n",
    "\n",
    "df_no2\n",
    "# ...existing code..."
   ]
  },
  {
   "cell_type": "code",
   "execution_count": null,
   "id": "e951777b",
   "metadata": {},
   "outputs": [],
   "source": [
    "df_no = df_no1.merge(df_no2, on=\"Year\")\n",
    "df_no[\"Smokers\"] = df_no[\"Smokers_x\"] + df_no[\"Smokers_y\"]\n",
    "df_no = df_no.drop(columns=[\"Smokers_y\", \"Smokers_x\"])"
   ]
  },
  {
   "cell_type": "code",
   "execution_count": null,
   "id": "ba6ecea4",
   "metadata": {},
   "outputs": [],
   "source": [
    "df_no = df_no.rename(columns={\"Smokers\": \"smokers_percentage\"})\n",
    "df_no"
   ]
  },
  {
   "cell_type": "code",
   "execution_count": null,
   "id": "7e855c75",
   "metadata": {},
   "outputs": [],
   "source": [
    "df_no = pd.read_excel(\"data_washed/norway_smokers.xlsx\").drop(columns=[\"Unnamed: 0\"])\n",
    "df_no = df_no.rename(columns={\"Unnamed: 2\": \"Year\", \"Unnamed: 3\": \"smokers_percentage\"})\n",
    "df_no[\"Year\"] = pd.to_numeric(df_no[\"Year\"], errors=\"coerce\")\n",
    "df_no = df_no.dropna(subset=[\"Year\", \"smokers_percentage\"]).reset_index(drop=True)\n",
    "df_no\n"
   ]
  },
  {
   "cell_type": "code",
   "execution_count": null,
   "id": "e77d102c",
   "metadata": {},
   "outputs": [],
   "source": [
    "df_no1 = pd.read_excel(\"norge_royk1.xlsx\")\n",
    "df_no2 = pd.read_excel(\"norge_royk2.xlsx\")\n"
   ]
  },
  {
   "cell_type": "code",
   "execution_count": null,
   "id": "1c4e6299",
   "metadata": {},
   "outputs": [],
   "source": [
    "# ...existing code...\n",
    "# drop first two columns, drop first two rows, reset index\n",
    "df_no1 = df_no1.drop(columns=[\"Unnamed: 0\", \"Unnamed: 1\"]).iloc[2:].reset_index(drop=True)\n",
    "\n",
    "# correct rename using the `columns=` dict\n",
    "df_no1 = df_no1.rename(columns={\"Unnamed: 2\": \"Year\", \"Unnamed: 3\": \"Smokers\"})\n",
    "\n",
    "# ensure Year numeric and drop rows with missing Year or Smokers\n",
    "df_no1[\"Year\"] = pd.to_numeric(df_no1[\"Year\"], errors=\"coerce\")\n",
    "df_no1 = df_no1.dropna(subset=[\"Year\", \"Smokers\"]).reset_index(drop=True)\n",
    "\n",
    "df_no1\n",
    "# ...existing code..."
   ]
  },
  {
   "cell_type": "code",
   "execution_count": null,
   "id": "0e7f2914",
   "metadata": {},
   "outputs": [],
   "source": [
    "# ...existing code...\n",
    "# drop first two columns, drop first two rows, reset index\n",
    "df_no2 = df_no2.drop(columns=[\"Unnamed: 0\", \"Unnamed: 1\"]).iloc[2:].reset_index(drop=True)\n",
    "\n",
    "# correct rename using the `columns=` dict\n",
    "df_no2 = df_no2.rename(columns={\"Unnamed: 2\": \"Year\", \"Unnamed: 3\": \"Smokers\"})\n",
    "\n",
    "# ensure Year numeric and drop rows with missing Year or Smokers\n",
    "df_no2[\"Year\"] = pd.to_numeric(df_no2[\"Year\"], errors=\"coerce\")\n",
    "df_no2 = df_no2.dropna(subset=[\"Year\", \"Smokers\"]).reset_index(drop=True)\n",
    "\n",
    "df_no2\n",
    "# ...existing code..."
   ]
  },
  {
   "cell_type": "code",
   "execution_count": null,
   "id": "1d5ccf93",
   "metadata": {},
   "outputs": [],
   "source": [
    "df_no = df_no1.merge(df_no2, on=\"Year\")\n",
    "df_no[\"Smokers\"] = df_no[\"Smokers_x\"] + df_no[\"Smokers_y\"]\n",
    "df_no = df_no.drop(columns=[\"Smokers_y\", \"Smokers_x\"])"
   ]
  },
  {
   "cell_type": "code",
   "execution_count": null,
   "id": "dbfcf73d",
   "metadata": {},
   "outputs": [],
   "source": [
    "df_no"
   ]
  }
 ],
 "metadata": {
  "language_info": {
   "name": "python"
  }
 },
 "nbformat": 4,
 "nbformat_minor": 5
}
